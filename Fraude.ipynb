{
 "cells": [
  {
   "cell_type": "markdown",
   "metadata": {},
   "source": [
    " # Construção de modelo para prever fraude em transações financeiras\n",
    " Dataset coletado: https://www.kaggle.com/datasets/chitwanmanchanda/fraudulent-transactions-data"
   ]
  },
  {
   "cell_type": "markdown",
   "metadata": {},
   "source": [
    "step - maps a unit of time in the real world. In this case 1 step is 1 hour of time. Total steps 744 (30 days simulation).\n",
    "\n",
    "type - CASH-IN, CASH-OUT, DEBIT, PAYMENT and TRANSFER.\n",
    "\n",
    "amount -\n",
    "amount of the transaction in local currency.\n",
    "\n",
    "nameOrig - customer who started the transaction\n",
    "\n",
    "oldbalanceOrg - initial balance before the transaction\n",
    "\n",
    "newbalanceOrig - new balance after the transaction\n",
    "\n",
    "nameDest - customer who is the recipient of the transaction\n",
    "\n",
    "oldbalanceDest - initial balance recipient before the transaction. Note that there is not information for customers that start with M (Merchants).\n",
    "\n",
    "newbalanceDest - new balance recipient after the transaction. Note that there is not information for customers that start with M (Merchants).\n",
    "\n",
    "isFraud - This is the transactions made by the fraudulent agents inside the simulation. In this specific dataset the fraudulent behavior of the agents aims to profit by taking control or customers accounts and try to empty the funds by transferring to another account and then cashing out of the system.\n",
    "\n",
    "isFlaggedFraud - The business model aims to control massive transfers from one account to another and flags illegal attempts. An illegal attempt in this dataset is an attempt to transfer more than 200.000 in a single transaction.\n"
   ]
  },
  {
   "cell_type": "markdown",
   "metadata": {},
   "source": [
    "1- Primeiro passo: Conectar a base no banco de dados SQL Server"
   ]
  },
  {
   "cell_type": "code",
   "execution_count": 3,
   "metadata": {},
   "outputs": [],
   "source": [
    "import numpy as np\n",
    "from scipy import stats\n",
    "import pandas as pd\n",
    "import matplotlib.pyplot as plt\n",
    "%matplotlib inline"
   ]
  },
  {
   "cell_type": "code",
   "execution_count": 4,
   "metadata": {},
   "outputs": [],
   "source": [
    "# Conenctando no SQL Server para extrair a base\n",
    "import pyodbc\n",
    "conn =pyodbc.connect(driver='{SQL Server Native Client 11.0}', \n",
    "                      host='localhost', database='Fraude', trusted_connection='yes')\n",
    "cursor=conn.cursor()\n",
    "cursor.execute('SELECT * FROM Fraude.dbo.houses_to_rent_sql')\n"
   ]
  },
  {
   "cell_type": "code",
   "execution_count": null,
   "metadata": {},
   "outputs": [],
   "source": [
    "df=pd.read_sql(sql='SELECT * FROM Fraude.dbo.houses_to_rent_sql',con=conn)"
   ]
  },
  {
   "cell_type": "code",
   "execution_count": 5,
   "metadata": {},
   "outputs": [],
   "source": [
    "df=pd.read_csv('PS_20174392719_1491204439457_log.csv', sep=',')"
   ]
  },
  {
   "cell_type": "code",
   "execution_count": 6,
   "metadata": {},
   "outputs": [],
   "source": [
    "pd.set_option('display.float_format', str)"
   ]
  },
  {
   "cell_type": "code",
   "execution_count": null,
   "metadata": {},
   "outputs": [],
   "source": [
    "2- O próximo passo é realizar o tratamento dos dados"
   ]
  },
  {
   "cell_type": "code",
   "execution_count": 8,
   "metadata": {},
   "outputs": [
    {
     "data": {
      "text/html": [
       "<div>\n",
       "<style scoped>\n",
       "    .dataframe tbody tr th:only-of-type {\n",
       "        vertical-align: middle;\n",
       "    }\n",
       "\n",
       "    .dataframe tbody tr th {\n",
       "        vertical-align: top;\n",
       "    }\n",
       "\n",
       "    .dataframe thead th {\n",
       "        text-align: right;\n",
       "    }\n",
       "</style>\n",
       "<table border=\"1\" class=\"dataframe\">\n",
       "  <thead>\n",
       "    <tr style=\"text-align: right;\">\n",
       "      <th></th>\n",
       "      <th>step</th>\n",
       "      <th>type</th>\n",
       "      <th>amount</th>\n",
       "      <th>nameOrig</th>\n",
       "      <th>oldbalanceOrg</th>\n",
       "      <th>newbalanceOrig</th>\n",
       "      <th>nameDest</th>\n",
       "      <th>oldbalanceDest</th>\n",
       "      <th>newbalanceDest</th>\n",
       "      <th>isFraud</th>\n",
       "      <th>isFlaggedFraud</th>\n",
       "    </tr>\n",
       "  </thead>\n",
       "  <tbody>\n",
       "    <tr>\n",
       "      <th>0</th>\n",
       "      <td>1</td>\n",
       "      <td>PAYMENT</td>\n",
       "      <td>9839.64</td>\n",
       "      <td>C1231006815</td>\n",
       "      <td>170136.0</td>\n",
       "      <td>160296.36</td>\n",
       "      <td>M1979787155</td>\n",
       "      <td>0.0</td>\n",
       "      <td>0.0</td>\n",
       "      <td>0</td>\n",
       "      <td>0</td>\n",
       "    </tr>\n",
       "    <tr>\n",
       "      <th>1</th>\n",
       "      <td>1</td>\n",
       "      <td>PAYMENT</td>\n",
       "      <td>1864.28</td>\n",
       "      <td>C1666544295</td>\n",
       "      <td>21249.0</td>\n",
       "      <td>19384.72</td>\n",
       "      <td>M2044282225</td>\n",
       "      <td>0.0</td>\n",
       "      <td>0.0</td>\n",
       "      <td>0</td>\n",
       "      <td>0</td>\n",
       "    </tr>\n",
       "    <tr>\n",
       "      <th>2</th>\n",
       "      <td>1</td>\n",
       "      <td>TRANSFER</td>\n",
       "      <td>181.0</td>\n",
       "      <td>C1305486145</td>\n",
       "      <td>181.0</td>\n",
       "      <td>0.0</td>\n",
       "      <td>C553264065</td>\n",
       "      <td>0.0</td>\n",
       "      <td>0.0</td>\n",
       "      <td>1</td>\n",
       "      <td>0</td>\n",
       "    </tr>\n",
       "    <tr>\n",
       "      <th>3</th>\n",
       "      <td>1</td>\n",
       "      <td>CASH_OUT</td>\n",
       "      <td>181.0</td>\n",
       "      <td>C840083671</td>\n",
       "      <td>181.0</td>\n",
       "      <td>0.0</td>\n",
       "      <td>C38997010</td>\n",
       "      <td>21182.0</td>\n",
       "      <td>0.0</td>\n",
       "      <td>1</td>\n",
       "      <td>0</td>\n",
       "    </tr>\n",
       "    <tr>\n",
       "      <th>4</th>\n",
       "      <td>1</td>\n",
       "      <td>PAYMENT</td>\n",
       "      <td>11668.14</td>\n",
       "      <td>C2048537720</td>\n",
       "      <td>41554.0</td>\n",
       "      <td>29885.86</td>\n",
       "      <td>M1230701703</td>\n",
       "      <td>0.0</td>\n",
       "      <td>0.0</td>\n",
       "      <td>0</td>\n",
       "      <td>0</td>\n",
       "    </tr>\n",
       "  </tbody>\n",
       "</table>\n",
       "</div>"
      ],
      "text/plain": [
       "   step      type   amount     nameOrig  oldbalanceOrg  newbalanceOrig  \\\n",
       "0     1   PAYMENT  9839.64  C1231006815       170136.0       160296.36   \n",
       "1     1   PAYMENT  1864.28  C1666544295        21249.0        19384.72   \n",
       "2     1  TRANSFER    181.0  C1305486145          181.0             0.0   \n",
       "3     1  CASH_OUT    181.0   C840083671          181.0             0.0   \n",
       "4     1   PAYMENT 11668.14  C2048537720        41554.0        29885.86   \n",
       "\n",
       "      nameDest  oldbalanceDest  newbalanceDest  isFraud  isFlaggedFraud  \n",
       "0  M1979787155             0.0             0.0        0               0  \n",
       "1  M2044282225             0.0             0.0        0               0  \n",
       "2   C553264065             0.0             0.0        1               0  \n",
       "3    C38997010         21182.0             0.0        1               0  \n",
       "4  M1230701703             0.0             0.0        0               0  "
      ]
     },
     "execution_count": 8,
     "metadata": {},
     "output_type": "execute_result"
    }
   ],
   "source": [
    "# Resumo do comportamento dos dados\n",
    "df.head()"
   ]
  },
  {
   "cell_type": "code",
   "execution_count": 7,
   "metadata": {},
   "outputs": [
    {
     "data": {
      "text/html": [
       "<div>\n",
       "<style scoped>\n",
       "    .dataframe tbody tr th:only-of-type {\n",
       "        vertical-align: middle;\n",
       "    }\n",
       "\n",
       "    .dataframe tbody tr th {\n",
       "        vertical-align: top;\n",
       "    }\n",
       "\n",
       "    .dataframe thead th {\n",
       "        text-align: right;\n",
       "    }\n",
       "</style>\n",
       "<table border=\"1\" class=\"dataframe\">\n",
       "  <thead>\n",
       "    <tr style=\"text-align: right;\">\n",
       "      <th></th>\n",
       "      <th>step</th>\n",
       "      <th>type</th>\n",
       "      <th>amount</th>\n",
       "      <th>nameOrig</th>\n",
       "      <th>oldbalanceOrg</th>\n",
       "      <th>newbalanceOrig</th>\n",
       "      <th>nameDest</th>\n",
       "      <th>oldbalanceDest</th>\n",
       "      <th>newbalanceDest</th>\n",
       "      <th>isFraud</th>\n",
       "      <th>isFlaggedFraud</th>\n",
       "    </tr>\n",
       "  </thead>\n",
       "  <tbody>\n",
       "    <tr>\n",
       "      <th>2</th>\n",
       "      <td>1</td>\n",
       "      <td>TRANSFER</td>\n",
       "      <td>181.0</td>\n",
       "      <td>C1305486145</td>\n",
       "      <td>181.0</td>\n",
       "      <td>0.0</td>\n",
       "      <td>C553264065</td>\n",
       "      <td>0.0</td>\n",
       "      <td>0.0</td>\n",
       "      <td>1</td>\n",
       "      <td>0</td>\n",
       "    </tr>\n",
       "    <tr>\n",
       "      <th>3</th>\n",
       "      <td>1</td>\n",
       "      <td>CASH_OUT</td>\n",
       "      <td>181.0</td>\n",
       "      <td>C840083671</td>\n",
       "      <td>181.0</td>\n",
       "      <td>0.0</td>\n",
       "      <td>C38997010</td>\n",
       "      <td>21182.0</td>\n",
       "      <td>0.0</td>\n",
       "      <td>1</td>\n",
       "      <td>0</td>\n",
       "    </tr>\n",
       "    <tr>\n",
       "      <th>251</th>\n",
       "      <td>1</td>\n",
       "      <td>TRANSFER</td>\n",
       "      <td>2806.0</td>\n",
       "      <td>C1420196421</td>\n",
       "      <td>2806.0</td>\n",
       "      <td>0.0</td>\n",
       "      <td>C972765878</td>\n",
       "      <td>0.0</td>\n",
       "      <td>0.0</td>\n",
       "      <td>1</td>\n",
       "      <td>0</td>\n",
       "    </tr>\n",
       "    <tr>\n",
       "      <th>252</th>\n",
       "      <td>1</td>\n",
       "      <td>CASH_OUT</td>\n",
       "      <td>2806.0</td>\n",
       "      <td>C2101527076</td>\n",
       "      <td>2806.0</td>\n",
       "      <td>0.0</td>\n",
       "      <td>C1007251739</td>\n",
       "      <td>26202.0</td>\n",
       "      <td>0.0</td>\n",
       "      <td>1</td>\n",
       "      <td>0</td>\n",
       "    </tr>\n",
       "    <tr>\n",
       "      <th>680</th>\n",
       "      <td>1</td>\n",
       "      <td>TRANSFER</td>\n",
       "      <td>20128.0</td>\n",
       "      <td>C137533655</td>\n",
       "      <td>20128.0</td>\n",
       "      <td>0.0</td>\n",
       "      <td>C1848415041</td>\n",
       "      <td>0.0</td>\n",
       "      <td>0.0</td>\n",
       "      <td>1</td>\n",
       "      <td>0</td>\n",
       "    </tr>\n",
       "    <tr>\n",
       "      <th>681</th>\n",
       "      <td>1</td>\n",
       "      <td>CASH_OUT</td>\n",
       "      <td>20128.0</td>\n",
       "      <td>C1118430673</td>\n",
       "      <td>20128.0</td>\n",
       "      <td>0.0</td>\n",
       "      <td>C339924917</td>\n",
       "      <td>6268.0</td>\n",
       "      <td>12145.85</td>\n",
       "      <td>1</td>\n",
       "      <td>0</td>\n",
       "    </tr>\n",
       "    <tr>\n",
       "      <th>724</th>\n",
       "      <td>1</td>\n",
       "      <td>CASH_OUT</td>\n",
       "      <td>416001.33</td>\n",
       "      <td>C749981943</td>\n",
       "      <td>0.0</td>\n",
       "      <td>0.0</td>\n",
       "      <td>C667346055</td>\n",
       "      <td>102.0</td>\n",
       "      <td>9291619.62</td>\n",
       "      <td>1</td>\n",
       "      <td>0</td>\n",
       "    </tr>\n",
       "    <tr>\n",
       "      <th>969</th>\n",
       "      <td>1</td>\n",
       "      <td>TRANSFER</td>\n",
       "      <td>1277212.77</td>\n",
       "      <td>C1334405552</td>\n",
       "      <td>1277212.77</td>\n",
       "      <td>0.0</td>\n",
       "      <td>C431687661</td>\n",
       "      <td>0.0</td>\n",
       "      <td>0.0</td>\n",
       "      <td>1</td>\n",
       "      <td>0</td>\n",
       "    </tr>\n",
       "    <tr>\n",
       "      <th>970</th>\n",
       "      <td>1</td>\n",
       "      <td>CASH_OUT</td>\n",
       "      <td>1277212.77</td>\n",
       "      <td>C467632528</td>\n",
       "      <td>1277212.77</td>\n",
       "      <td>0.0</td>\n",
       "      <td>C716083600</td>\n",
       "      <td>0.0</td>\n",
       "      <td>2444985.19</td>\n",
       "      <td>1</td>\n",
       "      <td>0</td>\n",
       "    </tr>\n",
       "    <tr>\n",
       "      <th>1115</th>\n",
       "      <td>1</td>\n",
       "      <td>TRANSFER</td>\n",
       "      <td>35063.63</td>\n",
       "      <td>C1364127192</td>\n",
       "      <td>35063.63</td>\n",
       "      <td>0.0</td>\n",
       "      <td>C1136419747</td>\n",
       "      <td>0.0</td>\n",
       "      <td>0.0</td>\n",
       "      <td>1</td>\n",
       "      <td>0</td>\n",
       "    </tr>\n",
       "    <tr>\n",
       "      <th>1116</th>\n",
       "      <td>1</td>\n",
       "      <td>CASH_OUT</td>\n",
       "      <td>35063.63</td>\n",
       "      <td>C1635772897</td>\n",
       "      <td>35063.63</td>\n",
       "      <td>0.0</td>\n",
       "      <td>C1983025922</td>\n",
       "      <td>31140.0</td>\n",
       "      <td>7550.03</td>\n",
       "      <td>1</td>\n",
       "      <td>0</td>\n",
       "    </tr>\n",
       "    <tr>\n",
       "      <th>1869</th>\n",
       "      <td>1</td>\n",
       "      <td>TRANSFER</td>\n",
       "      <td>25071.46</td>\n",
       "      <td>C669700766</td>\n",
       "      <td>25071.46</td>\n",
       "      <td>0.0</td>\n",
       "      <td>C1384210339</td>\n",
       "      <td>0.0</td>\n",
       "      <td>0.0</td>\n",
       "      <td>1</td>\n",
       "      <td>0</td>\n",
       "    </tr>\n",
       "    <tr>\n",
       "      <th>1870</th>\n",
       "      <td>1</td>\n",
       "      <td>CASH_OUT</td>\n",
       "      <td>25071.46</td>\n",
       "      <td>C1275464847</td>\n",
       "      <td>25071.46</td>\n",
       "      <td>0.0</td>\n",
       "      <td>C1364913072</td>\n",
       "      <td>9083.76</td>\n",
       "      <td>34155.22</td>\n",
       "      <td>1</td>\n",
       "      <td>0</td>\n",
       "    </tr>\n",
       "    <tr>\n",
       "      <th>1911</th>\n",
       "      <td>1</td>\n",
       "      <td>CASH_OUT</td>\n",
       "      <td>132842.64</td>\n",
       "      <td>C13692003</td>\n",
       "      <td>4499.08</td>\n",
       "      <td>0.0</td>\n",
       "      <td>C297927961</td>\n",
       "      <td>0.0</td>\n",
       "      <td>132842.64</td>\n",
       "      <td>1</td>\n",
       "      <td>0</td>\n",
       "    </tr>\n",
       "    <tr>\n",
       "      <th>2301</th>\n",
       "      <td>1</td>\n",
       "      <td>TRANSFER</td>\n",
       "      <td>235238.66</td>\n",
       "      <td>C1872047468</td>\n",
       "      <td>235238.66</td>\n",
       "      <td>0.0</td>\n",
       "      <td>C116289363</td>\n",
       "      <td>0.0</td>\n",
       "      <td>0.0</td>\n",
       "      <td>1</td>\n",
       "      <td>0</td>\n",
       "    </tr>\n",
       "    <tr>\n",
       "      <th>2302</th>\n",
       "      <td>1</td>\n",
       "      <td>CASH_OUT</td>\n",
       "      <td>235238.66</td>\n",
       "      <td>C1499825229</td>\n",
       "      <td>235238.66</td>\n",
       "      <td>0.0</td>\n",
       "      <td>C2100440237</td>\n",
       "      <td>0.0</td>\n",
       "      <td>235238.66</td>\n",
       "      <td>1</td>\n",
       "      <td>0</td>\n",
       "    </tr>\n",
       "    <tr>\n",
       "      <th>3059</th>\n",
       "      <td>2</td>\n",
       "      <td>TRANSFER</td>\n",
       "      <td>1096187.24</td>\n",
       "      <td>C1093223281</td>\n",
       "      <td>1096187.24</td>\n",
       "      <td>0.0</td>\n",
       "      <td>C2063275841</td>\n",
       "      <td>0.0</td>\n",
       "      <td>0.0</td>\n",
       "      <td>1</td>\n",
       "      <td>0</td>\n",
       "    </tr>\n",
       "    <tr>\n",
       "      <th>3060</th>\n",
       "      <td>2</td>\n",
       "      <td>CASH_OUT</td>\n",
       "      <td>1096187.24</td>\n",
       "      <td>C77163673</td>\n",
       "      <td>1096187.24</td>\n",
       "      <td>0.0</td>\n",
       "      <td>C644345897</td>\n",
       "      <td>0.0</td>\n",
       "      <td>1096187.24</td>\n",
       "      <td>1</td>\n",
       "      <td>0</td>\n",
       "    </tr>\n",
       "    <tr>\n",
       "      <th>3162</th>\n",
       "      <td>2</td>\n",
       "      <td>TRANSFER</td>\n",
       "      <td>963532.14</td>\n",
       "      <td>C1440057381</td>\n",
       "      <td>963532.14</td>\n",
       "      <td>0.0</td>\n",
       "      <td>C268086000</td>\n",
       "      <td>0.0</td>\n",
       "      <td>0.0</td>\n",
       "      <td>1</td>\n",
       "      <td>0</td>\n",
       "    </tr>\n",
       "    <tr>\n",
       "      <th>3163</th>\n",
       "      <td>2</td>\n",
       "      <td>CASH_OUT</td>\n",
       "      <td>963532.14</td>\n",
       "      <td>C430329518</td>\n",
       "      <td>963532.14</td>\n",
       "      <td>0.0</td>\n",
       "      <td>C991505714</td>\n",
       "      <td>132382.57</td>\n",
       "      <td>1095914.71</td>\n",
       "      <td>1</td>\n",
       "      <td>0</td>\n",
       "    </tr>\n",
       "  </tbody>\n",
       "</table>\n",
       "</div>"
      ],
      "text/plain": [
       "      step      type     amount     nameOrig  oldbalanceOrg  newbalanceOrig  \\\n",
       "2        1  TRANSFER      181.0  C1305486145          181.0             0.0   \n",
       "3        1  CASH_OUT      181.0   C840083671          181.0             0.0   \n",
       "251      1  TRANSFER     2806.0  C1420196421         2806.0             0.0   \n",
       "252      1  CASH_OUT     2806.0  C2101527076         2806.0             0.0   \n",
       "680      1  TRANSFER    20128.0   C137533655        20128.0             0.0   \n",
       "681      1  CASH_OUT    20128.0  C1118430673        20128.0             0.0   \n",
       "724      1  CASH_OUT  416001.33   C749981943            0.0             0.0   \n",
       "969      1  TRANSFER 1277212.77  C1334405552     1277212.77             0.0   \n",
       "970      1  CASH_OUT 1277212.77   C467632528     1277212.77             0.0   \n",
       "1115     1  TRANSFER   35063.63  C1364127192       35063.63             0.0   \n",
       "1116     1  CASH_OUT   35063.63  C1635772897       35063.63             0.0   \n",
       "1869     1  TRANSFER   25071.46   C669700766       25071.46             0.0   \n",
       "1870     1  CASH_OUT   25071.46  C1275464847       25071.46             0.0   \n",
       "1911     1  CASH_OUT  132842.64    C13692003        4499.08             0.0   \n",
       "2301     1  TRANSFER  235238.66  C1872047468      235238.66             0.0   \n",
       "2302     1  CASH_OUT  235238.66  C1499825229      235238.66             0.0   \n",
       "3059     2  TRANSFER 1096187.24  C1093223281     1096187.24             0.0   \n",
       "3060     2  CASH_OUT 1096187.24    C77163673     1096187.24             0.0   \n",
       "3162     2  TRANSFER  963532.14  C1440057381      963532.14             0.0   \n",
       "3163     2  CASH_OUT  963532.14   C430329518      963532.14             0.0   \n",
       "\n",
       "         nameDest  oldbalanceDest  newbalanceDest  isFraud  isFlaggedFraud  \n",
       "2      C553264065             0.0             0.0        1               0  \n",
       "3       C38997010         21182.0             0.0        1               0  \n",
       "251    C972765878             0.0             0.0        1               0  \n",
       "252   C1007251739         26202.0             0.0        1               0  \n",
       "680   C1848415041             0.0             0.0        1               0  \n",
       "681    C339924917          6268.0        12145.85        1               0  \n",
       "724    C667346055           102.0      9291619.62        1               0  \n",
       "969    C431687661             0.0             0.0        1               0  \n",
       "970    C716083600             0.0      2444985.19        1               0  \n",
       "1115  C1136419747             0.0             0.0        1               0  \n",
       "1116  C1983025922         31140.0         7550.03        1               0  \n",
       "1869  C1384210339             0.0             0.0        1               0  \n",
       "1870  C1364913072         9083.76        34155.22        1               0  \n",
       "1911   C297927961             0.0       132842.64        1               0  \n",
       "2301   C116289363             0.0             0.0        1               0  \n",
       "2302  C2100440237             0.0       235238.66        1               0  \n",
       "3059  C2063275841             0.0             0.0        1               0  \n",
       "3060   C644345897             0.0      1096187.24        1               0  \n",
       "3162   C268086000             0.0             0.0        1               0  \n",
       "3163   C991505714       132382.57      1095914.71        1               0  "
      ]
     },
     "execution_count": 7,
     "metadata": {},
     "output_type": "execute_result"
    }
   ],
   "source": [
    "df[ (df[\"isFraud\"]==1)].head(20)"
   ]
  },
  {
   "cell_type": "code",
   "execution_count": 9,
   "metadata": {},
   "outputs": [
    {
     "data": {
      "text/plain": [
       "step                int64\n",
       "type               object\n",
       "amount            float64\n",
       "nameOrig           object\n",
       "oldbalanceOrg     float64\n",
       "newbalanceOrig    float64\n",
       "nameDest           object\n",
       "oldbalanceDest    float64\n",
       "newbalanceDest    float64\n",
       "isFraud             int64\n",
       "isFlaggedFraud      int64\n",
       "dtype: object"
      ]
     },
     "execution_count": 9,
     "metadata": {},
     "output_type": "execute_result"
    }
   ],
   "source": [
    "# Tipo dos dados em cada variável\n",
    "df.dtypes"
   ]
  },
  {
   "cell_type": "code",
   "execution_count": 10,
   "metadata": {},
   "outputs": [
    {
     "data": {
      "text/plain": [
       "0    6354407\n",
       "1       8213\n",
       "Name: isFraud, dtype: int64"
      ]
     },
     "execution_count": 10,
     "metadata": {},
     "output_type": "execute_result"
    }
   ],
   "source": [
    "# Proporção para os casos que foram fraudes e não fraudes\n",
    "df['isFraud'].value_counts()"
   ]
  },
  {
   "cell_type": "code",
   "execution_count": 11,
   "metadata": {},
   "outputs": [
    {
     "data": {
      "text/plain": [
       "step              0\n",
       "type              0\n",
       "amount            0\n",
       "nameOrig          0\n",
       "oldbalanceOrg     0\n",
       "newbalanceOrig    0\n",
       "nameDest          0\n",
       "oldbalanceDest    0\n",
       "newbalanceDest    0\n",
       "isFraud           0\n",
       "isFlaggedFraud    0\n",
       "dtype: int64"
      ]
     },
     "execution_count": 11,
     "metadata": {},
     "output_type": "execute_result"
    }
   ],
   "source": [
    "# Verificar se há valores NA\n",
    "df.isna().sum()"
   ]
  },
  {
   "cell_type": "code",
   "execution_count": 14,
   "metadata": {},
   "outputs": [],
   "source": [
    "fraud=df[df['isFraud']==1]"
   ]
  },
  {
   "cell_type": "code",
   "execution_count": 57,
   "metadata": {},
   "outputs": [],
   "source": [
    "no_fraud=df[df['isFraud']==0]"
   ]
  },
  {
   "cell_type": "code",
   "execution_count": 17,
   "metadata": {},
   "outputs": [
    {
     "data": {
      "text/plain": [
       "0    6362604\n",
       "1         16\n",
       "Name: isFlaggedFraud, dtype: int64"
      ]
     },
     "execution_count": 17,
     "metadata": {},
     "output_type": "execute_result"
    }
   ],
   "source": [
    "# Proporção para os casos que foram flegados como fraudes e não fraudes\n",
    "df['isFlaggedFraud'].value_counts()"
   ]
  },
  {
   "cell_type": "markdown",
   "metadata": {},
   "source": [
    "Possíveis perguntas de negócio a serem respondidas:\n",
    "\n",
    "1- As contas de origem que ficaram zeradas após as transações são todos casos de fraudes?\n",
    "\n",
    "2- Existe mais de uma fraude em uma mesma conta de origem?\n",
    "\n",
    "3- Existe mais de uma fraude em uma mesma conta de destino?"
   ]
  },
  {
   "cell_type": "code",
   "execution_count": 19,
   "metadata": {},
   "outputs": [],
   "source": [
    "obs=[]"
   ]
  },
  {
   "cell_type": "code",
   "execution_count": 20,
   "metadata": {},
   "outputs": [],
   "source": [
    "# objeyivo: verificar se todas as contas de origem que ficaram zeradas após a transação são fraudes\n",
    "for i in df['newbalanceOrig']:\n",
    "    if i==0:\n",
    "        x=1\n",
    "        obs.append(x)\n",
    "    else:\n",
    "        x=0\n",
    "        obs.append(x)"
   ]
  },
  {
   "cell_type": "code",
   "execution_count": 21,
   "metadata": {},
   "outputs": [],
   "source": [
    "df['Obs']=obs"
   ]
  },
  {
   "cell_type": "code",
   "execution_count": 24,
   "metadata": {},
   "outputs": [
    {
     "data": {
      "text/html": [
       "<div>\n",
       "<style scoped>\n",
       "    .dataframe tbody tr th:only-of-type {\n",
       "        vertical-align: middle;\n",
       "    }\n",
       "\n",
       "    .dataframe tbody tr th {\n",
       "        vertical-align: top;\n",
       "    }\n",
       "\n",
       "    .dataframe thead th {\n",
       "        text-align: right;\n",
       "    }\n",
       "</style>\n",
       "<table border=\"1\" class=\"dataframe\">\n",
       "  <thead>\n",
       "    <tr style=\"text-align: right;\">\n",
       "      <th>isFraud</th>\n",
       "      <th>0</th>\n",
       "      <th>1</th>\n",
       "    </tr>\n",
       "    <tr>\n",
       "      <th>Obs</th>\n",
       "      <th></th>\n",
       "      <th></th>\n",
       "    </tr>\n",
       "  </thead>\n",
       "  <tbody>\n",
       "    <tr>\n",
       "      <th>0</th>\n",
       "      <td>2752894</td>\n",
       "      <td>160</td>\n",
       "    </tr>\n",
       "    <tr>\n",
       "      <th>1</th>\n",
       "      <td>3601513</td>\n",
       "      <td>8053</td>\n",
       "    </tr>\n",
       "  </tbody>\n",
       "</table>\n",
       "</div>"
      ],
      "text/plain": [
       "isFraud        0     1\n",
       "Obs                   \n",
       "0        2752894   160\n",
       "1        3601513  8053"
      ]
     },
     "execution_count": 24,
     "metadata": {},
     "output_type": "execute_result"
    }
   ],
   "source": [
    "pd.crosstab(df['Obs'], df['isFraud'], rownames=['Obs'], colnames=['isFraud'])"
   ]
  },
  {
   "cell_type": "code",
   "execution_count": 25,
   "metadata": {},
   "outputs": [
    {
     "data": {
      "text/plain": [
       "(6362620, 12)"
      ]
     },
     "execution_count": 25,
     "metadata": {},
     "output_type": "execute_result"
    }
   ],
   "source": [
    "df.shape"
   ]
  },
  {
   "cell_type": "code",
   "execution_count": 26,
   "metadata": {},
   "outputs": [
    {
     "data": {
      "text/plain": [
       "0.0012656735747223627"
      ]
     },
     "execution_count": 26,
     "metadata": {},
     "output_type": "execute_result"
    }
   ],
   "source": [
    "8053/6362620"
   ]
  },
  {
   "cell_type": "code",
   "execution_count": 27,
   "metadata": {},
   "outputs": [],
   "source": [
    "#Portanto, apenas 0,1% dos casos em que a conta de origem ficou zerada após a transferência foram fraudes "
   ]
  },
  {
   "cell_type": "code",
   "execution_count": null,
   "metadata": {},
   "outputs": [],
   "source": [
    "# Em seguida, coletar as contas que de origem que foram mais de uma vez fraudadas, se houver"
   ]
  },
  {
   "cell_type": "code",
   "execution_count": 28,
   "metadata": {},
   "outputs": [],
   "source": [
    "dupli_orig_fraud=df[df['isFraud']==1]"
   ]
  },
  {
   "cell_type": "code",
   "execution_count": 29,
   "metadata": {},
   "outputs": [
    {
     "data": {
      "text/plain": [
       "nameOrig\n",
       "C99979309      1\n",
       "C164780972     1\n",
       "C1627918307    1\n",
       "C1628056782    1\n",
       "C162812306     1\n",
       "              ..\n",
       "C356480504     1\n",
       "C356571967     1\n",
       "C356706674     1\n",
       "C356781229     1\n",
       "C1000036340    1\n",
       "Name: isFraud, Length: 8213, dtype: int64"
      ]
     },
     "execution_count": 29,
     "metadata": {},
     "output_type": "execute_result"
    }
   ],
   "source": [
    "dupli_orig_fraud.groupby('nameOrig')['isFraud'].count().sort_values(ascending=False)"
   ]
  },
  {
   "cell_type": "code",
   "execution_count": 30,
   "metadata": {},
   "outputs": [],
   "source": [
    "dupli_orig_fraud2=dupli_orig_fraud[dupli_orig_fraud.groupby('nameOrig')['isFraud'].transform('count') > 1]"
   ]
  },
  {
   "cell_type": "code",
   "execution_count": 31,
   "metadata": {},
   "outputs": [
    {
     "data": {
      "text/plain": [
       "0"
      ]
     },
     "execution_count": 31,
     "metadata": {},
     "output_type": "execute_result"
    }
   ],
   "source": [
    "len(dupli_orig_fraud2['nameOrig'].unique())"
   ]
  },
  {
   "cell_type": "code",
   "execution_count": 33,
   "metadata": {},
   "outputs": [],
   "source": [
    "# Não há contas que sofreram fraude mais de uma vez"
   ]
  },
  {
   "cell_type": "code",
   "execution_count": 32,
   "metadata": {},
   "outputs": [],
   "source": [
    "#print(dupli_orig_fraud.groupby('nameOrig')['isFraud'].count().sort_values(ascending=False))"
   ]
  },
  {
   "cell_type": "code",
   "execution_count": null,
   "metadata": {},
   "outputs": [],
   "source": [
    "# Em seguida, coletar as contas que de destino que foram mais de uma vez fraudadas, se houver"
   ]
  },
  {
   "cell_type": "code",
   "execution_count": 34,
   "metadata": {},
   "outputs": [
    {
     "data": {
      "text/plain": [
       "nameDest\n",
       "C935310781     2\n",
       "C385133759     2\n",
       "C200064275     2\n",
       "C1656842502    2\n",
       "C1655359478    2\n",
       "              ..\n",
       "C359739038     1\n",
       "C359887652     1\n",
       "C360215463     1\n",
       "C360497591     1\n",
       "C1000039615    1\n",
       "Name: isFraud, Length: 8169, dtype: int64"
      ]
     },
     "execution_count": 34,
     "metadata": {},
     "output_type": "execute_result"
    }
   ],
   "source": [
    "dupli_orig_fraud.groupby('nameDest')['isFraud'].count().sort_values(ascending=False)"
   ]
  },
  {
   "cell_type": "code",
   "execution_count": 35,
   "metadata": {},
   "outputs": [],
   "source": [
    "dupli_dest_fraud2=dupli_orig_fraud[dupli_orig_fraud.groupby('nameDest')['isFraud'].transform('count') > 1]"
   ]
  },
  {
   "cell_type": "code",
   "execution_count": 36,
   "metadata": {},
   "outputs": [
    {
     "data": {
      "text/plain": [
       "44"
      ]
     },
     "execution_count": 36,
     "metadata": {},
     "output_type": "execute_result"
    }
   ],
   "source": [
    "len(dupli_dest_fraud2['nameDest'].unique())"
   ]
  },
  {
   "cell_type": "code",
   "execution_count": 37,
   "metadata": {},
   "outputs": [],
   "source": [
    "# 44 contas  de destino tiveram mais de uma fraude"
   ]
  },
  {
   "cell_type": "code",
   "execution_count": null,
   "metadata": {},
   "outputs": [],
   "source": [
    "# Transformar algumas variáveis como categóricas"
   ]
  },
  {
   "cell_type": "code",
   "execution_count": 40,
   "metadata": {},
   "outputs": [
    {
     "data": {
      "text/plain": [
       "step                int64\n",
       "type               object\n",
       "amount            float64\n",
       "nameOrig           object\n",
       "oldbalanceOrg     float64\n",
       "newbalanceOrig    float64\n",
       "nameDest           object\n",
       "oldbalanceDest    float64\n",
       "newbalanceDest    float64\n",
       "isFraud             int64\n",
       "isFlaggedFraud      int64\n",
       "Obs                 int64\n",
       "dtype: object"
      ]
     },
     "execution_count": 40,
     "metadata": {},
     "output_type": "execute_result"
    }
   ],
   "source": [
    "df.dtypes"
   ]
  },
  {
   "cell_type": "code",
   "execution_count": 41,
   "metadata": {},
   "outputs": [],
   "source": [
    "cat=['type', 'isFraud', 'isFlaggedFraud']"
   ]
  },
  {
   "cell_type": "code",
   "execution_count": 42,
   "metadata": {},
   "outputs": [],
   "source": [
    "for i in cat:\n",
    "    df[i]=df[i].astype('category')"
   ]
  },
  {
   "cell_type": "markdown",
   "metadata": {},
   "source": [
    "Análise das variáveis independentes categóricas com a variável dependente"
   ]
  },
  {
   "cell_type": "code",
   "execution_count": 43,
   "metadata": {},
   "outputs": [
    {
     "data": {
      "text/html": [
       "<div>\n",
       "<style scoped>\n",
       "    .dataframe tbody tr th:only-of-type {\n",
       "        vertical-align: middle;\n",
       "    }\n",
       "\n",
       "    .dataframe tbody tr th {\n",
       "        vertical-align: top;\n",
       "    }\n",
       "\n",
       "    .dataframe thead th {\n",
       "        text-align: right;\n",
       "    }\n",
       "</style>\n",
       "<table border=\"1\" class=\"dataframe\">\n",
       "  <thead>\n",
       "    <tr style=\"text-align: right;\">\n",
       "      <th>isFraud</th>\n",
       "      <th>0</th>\n",
       "      <th>1</th>\n",
       "    </tr>\n",
       "    <tr>\n",
       "      <th>type</th>\n",
       "      <th></th>\n",
       "      <th></th>\n",
       "    </tr>\n",
       "  </thead>\n",
       "  <tbody>\n",
       "    <tr>\n",
       "      <th>CASH_IN</th>\n",
       "      <td>1399284</td>\n",
       "      <td>0</td>\n",
       "    </tr>\n",
       "    <tr>\n",
       "      <th>CASH_OUT</th>\n",
       "      <td>2233384</td>\n",
       "      <td>4116</td>\n",
       "    </tr>\n",
       "    <tr>\n",
       "      <th>DEBIT</th>\n",
       "      <td>41432</td>\n",
       "      <td>0</td>\n",
       "    </tr>\n",
       "    <tr>\n",
       "      <th>PAYMENT</th>\n",
       "      <td>2151495</td>\n",
       "      <td>0</td>\n",
       "    </tr>\n",
       "    <tr>\n",
       "      <th>TRANSFER</th>\n",
       "      <td>528812</td>\n",
       "      <td>4097</td>\n",
       "    </tr>\n",
       "  </tbody>\n",
       "</table>\n",
       "</div>"
      ],
      "text/plain": [
       "isFraud         0     1\n",
       "type                   \n",
       "CASH_IN   1399284     0\n",
       "CASH_OUT  2233384  4116\n",
       "DEBIT       41432     0\n",
       "PAYMENT   2151495     0\n",
       "TRANSFER   528812  4097"
      ]
     },
     "execution_count": 43,
     "metadata": {},
     "output_type": "execute_result"
    }
   ],
   "source": [
    "# Analisar a relação entre a variável \"type\" e \"isFraud\"\n",
    "pd.crosstab(df.type, df.isFraud)"
   ]
  },
  {
   "cell_type": "code",
   "execution_count": 44,
   "metadata": {},
   "outputs": [],
   "source": [
    "#os únicos tipos que tiveram fraudes foram \"CASH_OUT\" e \"TRANSFER\""
   ]
  },
  {
   "cell_type": "code",
   "execution_count": 45,
   "metadata": {},
   "outputs": [
    {
     "data": {
      "text/html": [
       "<div>\n",
       "<style scoped>\n",
       "    .dataframe tbody tr th:only-of-type {\n",
       "        vertical-align: middle;\n",
       "    }\n",
       "\n",
       "    .dataframe tbody tr th {\n",
       "        vertical-align: top;\n",
       "    }\n",
       "\n",
       "    .dataframe thead th {\n",
       "        text-align: right;\n",
       "    }\n",
       "</style>\n",
       "<table border=\"1\" class=\"dataframe\">\n",
       "  <thead>\n",
       "    <tr style=\"text-align: right;\">\n",
       "      <th>isFraud</th>\n",
       "      <th>0</th>\n",
       "      <th>1</th>\n",
       "    </tr>\n",
       "    <tr>\n",
       "      <th>isFlaggedFraud</th>\n",
       "      <th></th>\n",
       "      <th></th>\n",
       "    </tr>\n",
       "  </thead>\n",
       "  <tbody>\n",
       "    <tr>\n",
       "      <th>0</th>\n",
       "      <td>6354407</td>\n",
       "      <td>8197</td>\n",
       "    </tr>\n",
       "    <tr>\n",
       "      <th>1</th>\n",
       "      <td>0</td>\n",
       "      <td>16</td>\n",
       "    </tr>\n",
       "  </tbody>\n",
       "</table>\n",
       "</div>"
      ],
      "text/plain": [
       "isFraud               0     1\n",
       "isFlaggedFraud               \n",
       "0               6354407  8197\n",
       "1                     0    16"
      ]
     },
     "execution_count": 45,
     "metadata": {},
     "output_type": "execute_result"
    }
   ],
   "source": [
    "# Analisar a relação entre a variável \"isFlaggedFraud\" e \"isFraud\"\n",
    "pd.crosstab(df.isFlaggedFraud, df.isFraud)"
   ]
  },
  {
   "cell_type": "code",
   "execution_count": 46,
   "metadata": {},
   "outputs": [],
   "source": [
    "# todas as tranferências que foram flegadas como fraudes, dado que houve tentativa de transferência de mais de 200.000,\n",
    "# foram de fato fraudes"
   ]
  },
  {
   "cell_type": "code",
   "execution_count": 48,
   "metadata": {},
   "outputs": [
    {
     "data": {
      "text/plain": [
       "step                 int64\n",
       "type              category\n",
       "amount             float64\n",
       "nameOrig            object\n",
       "oldbalanceOrg      float64\n",
       "newbalanceOrig     float64\n",
       "nameDest            object\n",
       "oldbalanceDest     float64\n",
       "newbalanceDest     float64\n",
       "isFraud           category\n",
       "isFlaggedFraud    category\n",
       "Obs                  int64\n",
       "dtype: object"
      ]
     },
     "execution_count": 48,
     "metadata": {},
     "output_type": "execute_result"
    }
   ],
   "source": [
    "Análise das variáveis independentes numéricas com a variável dependente"
   ]
  },
  {
   "cell_type": "code",
   "execution_count": 52,
   "metadata": {},
   "outputs": [
    {
     "name": "stdout",
     "output_type": "stream",
     "text": [
      "média isFraud\n",
      "0   178197.04172739814\n",
      "1    1467967.299140387\n",
      "Name: amount, dtype: float64\n",
      "mediana isFraud\n",
      "0    74684.72\n",
      "1   441423.44\n",
      "Name: amount, dtype: float64\n",
      "desvio padrão isFraud\n",
      "0   596236.9813472016\n",
      "1   2404252.947240167\n",
      "Name: amount, dtype: float64\n"
     ]
    }
   ],
   "source": [
    "#indicadores para \"amount\"\n",
    "print(\"média\",df.groupby(\"isFraud\")[\"amount\"].mean())\n",
    "print(\"mediana\", df.groupby(\"isFraud\")[\"amount\"].median())\n",
    "print(\"desvio padrão\",df.groupby(\"isFraud\")[\"amount\"].std())"
   ]
  },
  {
   "cell_type": "code",
   "execution_count": null,
   "metadata": {},
   "outputs": [],
   "source": [
    "# dado que há uma alta diferença entre a média e mediana e o alto valor do disvio padrão,\n",
    "# pode-se imaginar que há valores extremos. Porém nota-se que para os casos em\n",
    "# que houve fraude o valor da transferência foi em média maior que os casos que não teve fraude "
   ]
  },
  {
   "cell_type": "code",
   "execution_count": 50,
   "metadata": {},
   "outputs": [
    {
     "name": "stdout",
     "output_type": "stream",
     "text": [
      "média isFraud\n",
      "0    832828.7117272562\n",
      "1   1649667.6057116783\n",
      "Name: oldbalanceOrg, dtype: float64\n",
      "mediana isFraud\n",
      "0     14069.0\n",
      "1   438983.45\n",
      "Name: oldbalanceOrg, dtype: float64\n",
      "desvio padrão isFraud\n",
      "0    2887144.030332991\n",
      "1   3547719.4391091308\n",
      "Name: oldbalanceOrg, dtype: float64\n"
     ]
    }
   ],
   "source": [
    "#indicadores para \"oldbalanceOrg\"\n",
    "print(\"média\",df.groupby(\"isFraud\")[\"oldbalanceOrg\"].mean())\n",
    "print(\"mediana\", df.groupby(\"isFraud\")[\"oldbalanceOrg\"].median())\n",
    "print(\"desvio padrão\",df.groupby(\"isFraud\")[\"oldbalanceOrg\"].std())"
   ]
  },
  {
   "cell_type": "code",
   "execution_count": null,
   "metadata": {},
   "outputs": [],
   "source": [
    "# dado que há uma alta diferença entre a média e mediana e o alto valor do disvio padrão,\n",
    "# pode-se imaginar que há valores extremos. Porém nota-se que para os casos em\n",
    "# que houve fraude o valor na conta de origem antes da transferência foi em média maior que os casos que não teve fraude "
   ]
  },
  {
   "cell_type": "code",
   "execution_count": 51,
   "metadata": {},
   "outputs": [
    {
     "name": "stdout",
     "output_type": "stream",
     "text": [
      "média isFraud\n",
      "0    855970.2281087907\n",
      "1   192392.63183611343\n",
      "Name: newbalanceOrig, dtype: float64\n",
      "mediana isFraud\n",
      "0   0.0\n",
      "1   0.0\n",
      "Name: newbalanceOrig, dtype: float64\n",
      "desvio padrão isFraud\n",
      "0   2924986.9646495897\n",
      "1    1965666.455719133\n",
      "Name: newbalanceOrig, dtype: float64\n"
     ]
    }
   ],
   "source": [
    "#indicadores para \"newbalanceOrig\"\n",
    "print(\"média\",df.groupby(\"isFraud\")[\"newbalanceOrig\"].mean())\n",
    "print(\"mediana\", df.groupby(\"isFraud\")[\"newbalanceOrig\"].median())\n",
    "print(\"desvio padrão\",df.groupby(\"isFraud\")[\"newbalanceOrig\"].std())"
   ]
  },
  {
   "cell_type": "code",
   "execution_count": null,
   "metadata": {},
   "outputs": [],
   "source": [
    "# dado que há uma alta diferença entre a média e mediana e o alto valor do disvio padrão,\n",
    "# pode-se imaginar que há valores extremos. Porém nota-se que para os casos em\n",
    "# que houve fraude o valor na conta de origem depois da transferência foi em média menor que os casos que não teve fraude "
   ]
  },
  {
   "cell_type": "code",
   "execution_count": null,
   "metadata": {},
   "outputs": [],
   "source": [
    "# As fraudes predominam em contas com mais dinheiro na conta e após a transferência\n",
    "# o valor final da conta é menor do que os casos onde não gouve fraude"
   ]
  },
  {
   "cell_type": "code",
   "execution_count": 53,
   "metadata": {},
   "outputs": [
    {
     "name": "stdout",
     "output_type": "stream",
     "text": [
      "média isFraud\n",
      "0   1101420.8745694289\n",
      "1    544249.6190746377\n",
      "Name: oldbalanceDest, dtype: float64\n",
      "mediana isFraud\n",
      "0   133311.8\n",
      "1        0.0\n",
      "Name: oldbalanceDest, dtype: float64\n",
      "desvio padrão isFraud\n",
      "0   3399201.7933785026\n",
      "1   3336420.9509249586\n",
      "Name: oldbalanceDest, dtype: float64\n"
     ]
    }
   ],
   "source": [
    "#indicadores para \"oldbalanceDest\"\n",
    "print(\"média\",df.groupby(\"isFraud\")[\"oldbalanceDest\"].mean())\n",
    "print(\"mediana\", df.groupby(\"isFraud\")[\"oldbalanceDest\"].median())\n",
    "print(\"desvio padrão\",df.groupby(\"isFraud\")[\"oldbalanceDest\"].std())"
   ]
  },
  {
   "cell_type": "code",
   "execution_count": null,
   "metadata": {},
   "outputs": [],
   "source": [
    "# dado que há uma alta diferença entre a média e mediana e o alto valor do disvio padrão,\n",
    "# pode-se imaginar que há valores extremos. Porém, observa-se que em média as contas de destino antes da transferência\n",
    "# possuem menos dinheiro que as contas de destino que não tiveram fraude"
   ]
  },
  {
   "cell_type": "code",
   "execution_count": 54,
   "metadata": {},
   "outputs": [
    {
     "name": "stdout",
     "output_type": "stream",
     "text": [
      "média isFraud\n",
      "0   1224925.6845633048\n",
      "1   1279707.6171459865\n",
      "Name: newbalanceDest, dtype: float64\n",
      "mediana isFraud\n",
      "0   214881.7\n",
      "1    4676.42\n",
      "Name: newbalanceDest, dtype: float64\n",
      "desvio padrão isFraud\n",
      "0    3673815.709922623\n",
      "1   3908816.5338157546\n",
      "Name: newbalanceDest, dtype: float64\n"
     ]
    }
   ],
   "source": [
    "#indicadores para \"newbalanceDest\"\n",
    "print(\"média\",df.groupby(\"isFraud\")[\"newbalanceDest\"].mean())\n",
    "print(\"mediana\", df.groupby(\"isFraud\")[\"newbalanceDest\"].median())\n",
    "print(\"desvio padrão\",df.groupby(\"isFraud\")[\"newbalanceDest\"].std())"
   ]
  },
  {
   "cell_type": "code",
   "execution_count": null,
   "metadata": {},
   "outputs": [],
   "source": [
    "#Percebe-se que não há diferenças significativas entre os casos que houveram fraude e os que não houveram fraude\n",
    "#, embora a mediana mostre que as situações que não ocorreram fraude apresentam valores maiores."
   ]
  },
  {
   "cell_type": "code",
   "execution_count": 55,
   "metadata": {},
   "outputs": [],
   "source": [
    "df=df.drop(columns=[\"Obs\"])"
   ]
  },
  {
   "cell_type": "code",
   "execution_count": 56,
   "metadata": {},
   "outputs": [
    {
     "data": {
      "text/plain": [
       "<matplotlib.axes._subplots.AxesSubplot at 0x1a6a867bcc8>"
      ]
     },
     "execution_count": 56,
     "metadata": {},
     "output_type": "execute_result"
    },
    {
     "data": {
      "image/png": "[encoded data removed]",
      "text/plain": [
       "<Figure size 432x288 with 2 Axes>"
      ]
     },
     "metadata": {
      "needs_background": "light"
     },
     "output_type": "display_data"
    }
   ],
   "source": [
    "#Heatmap para analisar a correlação das variáveis\n",
    "mask = np.triu(np.ones_like(df.corr(method='spearman'), dtype=bool))\n",
    "\n",
    "# generate heatmap\n",
    "sns.heatmap(df.corr(method='spearman'), annot=True, mask=mask, vmin=-1, vmax=1)"
   ]
  },
  {
   "cell_type": "code",
   "execution_count": 69,
   "metadata": {},
   "outputs": [],
   "source": [
    "# Eliminando coluans não relevantes ao modelo\n",
    "df_modelo=df.drop(columns=[\"step\", \"nameOrig\", \"nameDest\"])"
   ]
  },
  {
   "cell_type": "code",
   "execution_count": 70,
   "metadata": {},
   "outputs": [],
   "source": [
    "# transformando a variável \"type\" em dummies\n",
    "df_dummies=pd.get_dummies(data=df_modelo, columns=['type'])"
   ]
  },
  {
   "cell_type": "code",
   "execution_count": null,
   "metadata": {},
   "outputs": [],
   "source": [
    "# Devido ao grande tamanho da base, o computador local não foi capaz de criar modelos. \n",
    "# Dessa forma foi selecionado uma amostra da base contendo a mesma proporção de fraudes e não fraudes da base original"
   ]
  },
  {
   "cell_type": "code",
   "execution_count": 92,
   "metadata": {},
   "outputs": [
    {
     "data": {
      "text/plain": [
       "76351440"
      ]
     },
     "execution_count": 92,
     "metadata": {},
     "output_type": "execute_result"
    }
   ],
   "source": [
    "df_dummies.size"
   ]
  },
  {
   "cell_type": "code",
   "execution_count": 120,
   "metadata": {},
   "outputs": [
    {
     "data": {
      "text/plain": [
       "763514.4"
      ]
     },
     "execution_count": 120,
     "metadata": {},
     "output_type": "execute_result"
    }
   ],
   "source": [
    "76351440*0.01"
   ]
  },
  {
   "cell_type": "code",
   "execution_count": 144,
   "metadata": {},
   "outputs": [],
   "source": [
    "df_dummies_amostra=df_dummies.sample(n=763514, random_state=111)"
   ]
  },
  {
   "cell_type": "code",
   "execution_count": 132,
   "metadata": {},
   "outputs": [
    {
     "data": {
      "text/plain": [
       "916212"
      ]
     },
     "execution_count": 132,
     "metadata": {},
     "output_type": "execute_result"
    }
   ],
   "source": [
    "df_dummies_amostra.size"
   ]
  },
  {
   "cell_type": "code",
   "execution_count": 161,
   "metadata": {},
   "outputs": [
    {
     "data": {
      "text/plain": [
       "isFraud\n",
       "0    762538\n",
       "1       976\n",
       "Name: isFlaggedFraud, dtype: int64"
      ]
     },
     "execution_count": 161,
     "metadata": {},
     "output_type": "execute_result"
    }
   ],
   "source": [
    "df_dummies_amostra.groupby('isFraud')['isFlaggedFraud'].count()"
   ]
  },
  {
   "cell_type": "code",
   "execution_count": 163,
   "metadata": {},
   "outputs": [
    {
     "data": {
      "text/plain": [
       "0.001065255639524477"
      ]
     },
     "execution_count": 163,
     "metadata": {},
     "output_type": "execute_result"
    }
   ],
   "source": [
    "# Na base da amostra apenas 0,1% dos casos são fraudes\n",
    "976/916212"
   ]
  },
  {
   "cell_type": "code",
   "execution_count": 162,
   "metadata": {},
   "outputs": [
    {
     "data": {
      "text/plain": [
       "isFraud\n",
       "0    6354407\n",
       "1       8213\n",
       "Name: isFlaggedFraud, dtype: int64"
      ]
     },
     "execution_count": 162,
     "metadata": {},
     "output_type": "execute_result"
    }
   ],
   "source": [
    "df_dummies.groupby('isFraud')['isFlaggedFraud'].count()"
   ]
  },
  {
   "cell_type": "code",
   "execution_count": 164,
   "metadata": {},
   "outputs": [
    {
     "data": {
      "text/plain": [
       "76351440"
      ]
     },
     "execution_count": 164,
     "metadata": {},
     "output_type": "execute_result"
    }
   ],
   "source": [
    "df_dummies.size"
   ]
  },
  {
   "cell_type": "code",
   "execution_count": 165,
   "metadata": {},
   "outputs": [
    {
     "data": {
      "text/plain": [
       "0.00010756837068167935"
      ]
     },
     "execution_count": 165,
     "metadata": {},
     "output_type": "execute_result"
    }
   ],
   "source": [
    "# Na base orginal apenas 0,1% dos casos são fraudes\n",
    "8213/76351440"
   ]
  },
  {
   "cell_type": "code",
   "execution_count": 145,
   "metadata": {},
   "outputs": [],
   "source": [
    "x=df_dummies_amostra.drop(columns=['isFraud'])\n",
    "y=df_dummies_amostra['isFraud']"
   ]
  },
  {
   "cell_type": "code",
   "execution_count": 98,
   "metadata": {},
   "outputs": [],
   "source": [
    "# normalização dos dados\n",
    "from sklearn.preprocessing import MinMaxScaler\n"
   ]
  },
  {
   "cell_type": "code",
   "execution_count": 146,
   "metadata": {},
   "outputs": [],
   "source": [
    "x_norm=MinMaxScaler(feature_range = (0, 1)).fit_transform(x)"
   ]
  },
  {
   "cell_type": "code",
   "execution_count": 82,
   "metadata": {},
   "outputs": [],
   "source": [
    "# divisão entre dados treino e teste\n",
    "from sklearn.model_selection import train_test_split "
   ]
  },
  {
   "cell_type": "code",
   "execution_count": 147,
   "metadata": {},
   "outputs": [],
   "source": [
    "x_train, x_test, y_train, y_test=train_test_split(x_norm, y, test_size=0.33, random_state=222)"
   ]
  },
  {
   "cell_type": "code",
   "execution_count": 85,
   "metadata": {},
   "outputs": [],
   "source": [
    "import statsmodels.api as sm"
   ]
  },
  {
   "cell_type": "code",
   "execution_count": 148,
   "metadata": {},
   "outputs": [],
   "source": [
    "# criação de modelo de regressão logística do pacto statsmodel\n",
    "bin_model = sm.GLM(y_train, x_train, family=sm.families.Binomial())"
   ]
  },
  {
   "cell_type": "code",
   "execution_count": 149,
   "metadata": {
    "scrolled": true
   },
   "outputs": [
    {
     "name": "stderr",
     "output_type": "stream",
     "text": [
      "C:\\Users\\allima\\Anaconda3\\lib\\site-packages\\statsmodels\\genmod\\families\\family.py:894: RuntimeWarning: invalid value encountered in true_divide\n",
      "  n_endog_mu = self._clean((1. - endog) / (1. - mu))\n",
      "C:\\Users\\allima\\Anaconda3\\lib\\site-packages\\statsmodels\\genmod\\families\\links.py:188: RuntimeWarning: overflow encountered in exp\n",
      "  t = np.exp(-z)\n",
      "C:\\Users\\allima\\Anaconda3\\lib\\site-packages\\statsmodels\\genmod\\families\\family.py:893: RuntimeWarning: invalid value encountered in true_divide\n",
      "  endog_mu = self._clean(endog / mu)\n",
      "C:\\Users\\allima\\Anaconda3\\lib\\site-packages\\statsmodels\\genmod\\families\\family.py:894: RuntimeWarning: divide by zero encountered in true_divide\n",
      "  n_endog_mu = self._clean((1. - endog) / (1. - mu))\n",
      "C:\\Users\\allima\\Anaconda3\\lib\\site-packages\\statsmodels\\genmod\\families\\family.py:893: RuntimeWarning: divide by zero encountered in true_divide\n",
      "  endog_mu = self._clean(endog / mu)\n"
     ]
    }
   ],
   "source": [
    "bin_results=bin_model.fit()"
   ]
  },
  {
   "cell_type": "code",
   "execution_count": 201,
   "metadata": {},
   "outputs": [],
   "source": [
    "x_dummies=df_dummies.drop(columns=['isFraud'])"
   ]
  },
  {
   "cell_type": "code",
   "execution_count": 206,
   "metadata": {
    "scrolled": true
   },
   "outputs": [
    {
     "name": "stdout",
     "output_type": "stream",
     "text": [
      "                 Generalized Linear Model Regression Results                  \n",
      "==============================================================================\n",
      "Dep. Variable:                isFraud   No. Observations:               511554\n",
      "Model:                            GLM   Df Residuals:                   511544\n",
      "Model Family:                Binomial   Df Model:                            9\n",
      "Link Function:                  logit   Scale:                          1.0000\n",
      "Method:                          IRLS   Log-Likelihood:                    nan\n",
      "Date:                Fri, 19 Aug 2022   Deviance:                          nan\n",
      "Time:                        16:52:40   Pearson chi2:                 1.95e+18\n",
      "No. Iterations:                   100                                         \n",
      "Covariance Type:            nonrobust                                         \n",
      "==============================================================================\n",
      "                 coef    std err          z      P>|z|      [0.025      0.975]\n",
      "------------------------------------------------------------------------------\n",
      "x1         -2.184e+16      2e+07  -1.09e+09      0.000   -2.18e+16   -2.18e+16\n",
      "x2          2.106e+16   3.31e+07   6.36e+08      0.000    2.11e+16    2.11e+16\n",
      "x3          -3.24e+16   3.32e+07  -9.76e+08      0.000   -3.24e+16   -3.24e+16\n",
      "x4          2.213e+16   8.44e+07   2.62e+08      0.000    2.21e+16    2.21e+16\n",
      "x5         -2.836e+16    8.4e+07  -3.38e+08      0.000   -2.84e+16   -2.84e+16\n",
      "const        -53.2460   4.39e-07  -1.21e+08      0.000     -53.246     -53.246\n",
      "x6         -8.844e+14   2.91e+05  -3.03e+09      0.000   -8.84e+14   -8.84e+14\n",
      "x7         -2.159e+13   1.67e+05  -1.29e+08      0.000   -2.16e+13   -2.16e+13\n",
      "x8         -4.448e+15   1.17e+06  -3.81e+09      0.000   -4.45e+15   -4.45e+15\n",
      "x9         -2.126e+15   1.61e+05  -1.32e+10      0.000   -2.13e+15   -2.13e+15\n",
      "x10          -1.6e+13    3.6e+05  -4.44e+07      0.000    -1.6e+13    -1.6e+13\n",
      "==============================================================================\n"
     ]
    }
   ],
   "source": [
    "# Resumo do modelo gerado\n",
    "# Pode-se afirmar que todas as variáveis apresentam coeficientes diferentes de 0 pois o p valor do cálculo é menor que 5%.\n",
    "# Portanto todas as variáveis são significativas ao modelo\n",
    "print(bin_results.summary())"
   ]
  },
  {
   "cell_type": "code",
   "execution_count": 154,
   "metadata": {},
   "outputs": [
    {
     "name": "stderr",
     "output_type": "stream",
     "text": [
      "C:\\Users\\allima\\Anaconda3\\lib\\site-packages\\statsmodels\\genmod\\families\\links.py:188: RuntimeWarning: overflow encountered in exp\n",
      "  t = np.exp(-z)\n"
     ]
    }
   ],
   "source": [
    "# Teste de previsão\n",
    "bin_pred=bin_results.predict(x_test)"
   ]
  },
  {
   "cell_type": "code",
   "execution_count": 167,
   "metadata": {},
   "outputs": [],
   "source": [
    "from sklearn.metrics import confusion_matrix, roc_auc_score, classification_report"
   ]
  },
  {
   "cell_type": "code",
   "execution_count": 157,
   "metadata": {},
   "outputs": [
    {
     "name": "stdout",
     "output_type": "stream",
     "text": [
      "[[251550     88]\n",
      " [   116    206]]\n"
     ]
    }
   ],
   "source": [
    "# matriz de confusão\n",
    "print(confusion_matrix(y_test,bin_pred))"
   ]
  },
  {
   "cell_type": "code",
   "execution_count": 159,
   "metadata": {
    "scrolled": true
   },
   "outputs": [
    {
     "name": "stdout",
     "output_type": "stream",
     "text": [
      "              precision    recall  f1-score   support\n",
      "\n",
      "           0       1.00      1.00      1.00    251638\n",
      "           1       0.70      0.64      0.67       322\n",
      "\n",
      "    accuracy                           1.00    251960\n",
      "   macro avg       0.85      0.82      0.83    251960\n",
      "weighted avg       1.00      1.00      1.00    251960\n",
      "\n"
     ]
    }
   ],
   "source": [
    "# Percebe-se  que embora o nível de acurácia é alto os valores de precisão e recall para os acertos quando o casos é fraude\n",
    "# não é muito assertivo. Portanto o algoritmo prevê bem quando não é fraude mas acerta menos quando é fraude\n",
    "print(classification_report(y_test,bin_pred))"
   ]
  },
  {
   "cell_type": "code",
   "execution_count": 168,
   "metadata": {},
   "outputs": [
    {
     "data": {
      "text/plain": [
       "0.8197009220432446"
      ]
     },
     "execution_count": 168,
     "metadata": {},
     "output_type": "execute_result"
    }
   ],
   "source": [
    "#Valor da curva roc é alto\n",
    "roc_auc_score(y_test,bin_pred)"
   ]
  },
  {
   "cell_type": "code",
   "execution_count": 169,
   "metadata": {},
   "outputs": [],
   "source": [
    "from sklearn.ensemble import RandomForestClassifier"
   ]
  },
  {
   "cell_type": "code",
   "execution_count": 176,
   "metadata": {},
   "outputs": [],
   "source": [
    "# Elaboração do modelo usando Random Forest\n",
    "random_model=RandomForestClassifier(random_state=333).fit(x_train,y_train)"
   ]
  },
  {
   "cell_type": "code",
   "execution_count": 171,
   "metadata": {},
   "outputs": [],
   "source": [
    "random_pred=random_model.predict(x_test)"
   ]
  },
  {
   "cell_type": "code",
   "execution_count": 172,
   "metadata": {},
   "outputs": [
    {
     "data": {
      "text/plain": [
       "array([[251631,      7],\n",
       "       [    81,    241]], dtype=int64)"
      ]
     },
     "execution_count": 172,
     "metadata": {},
     "output_type": "execute_result"
    }
   ],
   "source": [
    "# matriz de confusão\n",
    "confusion_matrix(y_test,random_pred)"
   ]
  },
  {
   "cell_type": "code",
   "execution_count": 174,
   "metadata": {},
   "outputs": [
    {
     "name": "stdout",
     "output_type": "stream",
     "text": [
      "              precision    recall  f1-score   support\n",
      "\n",
      "           0       1.00      1.00      1.00    251638\n",
      "           1       0.97      0.75      0.85       322\n",
      "\n",
      "    accuracy                           1.00    251960\n",
      "   macro avg       0.99      0.87      0.92    251960\n",
      "weighted avg       1.00      1.00      1.00    251960\n",
      "\n"
     ]
    }
   ],
   "source": [
    "# Percebe-se que esse modelo apresenta um valor alto de precisão para os casos que são fraudes e maior que o modelo anterior\n",
    "print(classification_report(y_test,random_pred))"
   ]
  },
  {
   "cell_type": "code",
   "execution_count": 179,
   "metadata": {
    "scrolled": true
   },
   "outputs": [
    {
     "data": {
      "text/plain": [
       "0.8742096936153823"
      ]
     },
     "execution_count": 179,
     "metadata": {},
     "output_type": "execute_result"
    }
   ],
   "source": [
    "# O valor da curva roc é maior que o modelo anterior\n",
    "roc_auc_score(y_test, random_pred)"
   ]
  },
  {
   "cell_type": "code",
   "execution_count": null,
   "metadata": {},
   "outputs": [],
   "source": [
    "# Pelo algoritmo Random Forest é possível verificar quais variáveis impactam mais ao modelo"
   ]
  },
  {
   "cell_type": "code",
   "execution_count": null,
   "metadata": {},
   "outputs": [],
   "source": [
    "x_dummies=df_dummies.drop(columns=['isfraud'])"
   ]
  },
  {
   "cell_type": "code",
   "execution_count": 209,
   "metadata": {},
   "outputs": [
    {
     "data": {
      "text/plain": [
       "Index(['amount', 'oldbalanceOrg', 'newbalanceOrig', 'oldbalanceDest',\n",
       "       'newbalanceDest', 'isFlaggedFraud', 'type_CASH_IN', 'type_CASH_OUT',\n",
       "       'type_DEBIT', 'type_PAYMENT', 'type_TRANSFER'],\n",
       "      dtype='object')"
      ]
     },
     "execution_count": 209,
     "metadata": {},
     "output_type": "execute_result"
    }
   ],
   "source": [
    "x_dummies.columns"
   ]
  },
  {
   "cell_type": "code",
   "execution_count": 207,
   "metadata": {},
   "outputs": [
    {
     "data": {
      "text/plain": [
       "array([1.84085510e-01, 2.75451753e-01, 2.92580619e-02, 9.88599805e-02,\n",
       "       3.24557783e-01, 0.00000000e+00, 2.15553967e-03, 2.36939343e-02,\n",
       "       2.47100965e-04, 5.88220874e-03, 5.58081282e-02])"
      ]
     },
     "execution_count": 207,
     "metadata": {},
     "output_type": "execute_result"
    }
   ],
   "source": [
    "random_model.feature_importances_"
   ]
  },
  {
   "cell_type": "code",
   "execution_count": null,
   "metadata": {},
   "outputs": [],
   "source": [
    "# Percebe-se que a variável \"isFlaggedFraud\" é mais significativo ao modelo, seguido da variável\n",
    "# 'newbalanceDest', 'oldbalanceOrg' e 'amount'"
   ]
  },
  {
   "cell_type": "code",
   "execution_count": 211,
   "metadata": {},
   "outputs": [],
   "source": [
    "from sklearn.ensemble import GradientBoostingClassifier"
   ]
  },
  {
   "cell_type": "code",
   "execution_count": 212,
   "metadata": {},
   "outputs": [],
   "source": [
    "# Elaboração do modelo usando Gradient Boosting\n",
    "gb_model=GradientBoostingClassifier(random_state=333).fit(x_train,y_train)"
   ]
  },
  {
   "cell_type": "code",
   "execution_count": 213,
   "metadata": {},
   "outputs": [],
   "source": [
    "gb_pred=gb_model.predict(x_test)"
   ]
  },
  {
   "cell_type": "code",
   "execution_count": 214,
   "metadata": {},
   "outputs": [
    {
     "data": {
      "text/plain": [
       "array([[251630,      8],\n",
       "       [   154,    168]], dtype=int64)"
      ]
     },
     "execution_count": 214,
     "metadata": {},
     "output_type": "execute_result"
    }
   ],
   "source": [
    "# matriz de confusão\n",
    "confusion_matrix(y_test,gb_pred)"
   ]
  },
  {
   "cell_type": "code",
   "execution_count": 215,
   "metadata": {},
   "outputs": [
    {
     "name": "stdout",
     "output_type": "stream",
     "text": [
      "              precision    recall  f1-score   support\n",
      "\n",
      "           0       1.00      1.00      1.00    251638\n",
      "           1       0.95      0.52      0.67       322\n",
      "\n",
      "    accuracy                           1.00    251960\n",
      "   macro avg       0.98      0.76      0.84    251960\n",
      "weighted avg       1.00      1.00      1.00    251960\n",
      "\n"
     ]
    }
   ],
   "source": [
    "# Percebe-se que esse modelo apresenta um valor alto de precisão para os casos que são fraudes,\n",
    "# porém não é maior que o modelo com Random Forest\n",
    "print(classification_report(y_test,gb_pred))"
   ]
  },
  {
   "cell_type": "code",
   "execution_count": 216,
   "metadata": {},
   "outputs": [
    {
     "data": {
      "text/plain": [
       "0.7608536693670032"
      ]
     },
     "execution_count": 216,
     "metadata": {},
     "output_type": "execute_result"
    }
   ],
   "source": [
    "# O valor da curva roc é menor que o modelo anterior\n",
    "roc_auc_score(y_test, gb_pred)"
   ]
  },
  {
   "cell_type": "code",
   "execution_count": 217,
   "metadata": {},
   "outputs": [],
   "source": [
    "from xgboost import XGBClassifier"
   ]
  },
  {
   "cell_type": "code",
   "execution_count": 218,
   "metadata": {},
   "outputs": [],
   "source": [
    "# Elaboração do modelo usando XGB\n",
    "xgb_model=XGBClassifier(random_state=333).fit(x_train,y_train)"
   ]
  },
  {
   "cell_type": "code",
   "execution_count": 219,
   "metadata": {
    "scrolled": true
   },
   "outputs": [],
   "source": [
    "xgb_pred=xgb_model.predict(x_test)"
   ]
  },
  {
   "cell_type": "code",
   "execution_count": 220,
   "metadata": {},
   "outputs": [
    {
     "data": {
      "text/plain": [
       "array([[251629,      9],\n",
       "       [    78,    244]], dtype=int64)"
      ]
     },
     "execution_count": 220,
     "metadata": {},
     "output_type": "execute_result"
    }
   ],
   "source": [
    "# matriz de confusão\n",
    "confusion_matrix(y_test,xgb_pred)"
   ]
  },
  {
   "cell_type": "code",
   "execution_count": 221,
   "metadata": {},
   "outputs": [
    {
     "name": "stdout",
     "output_type": "stream",
     "text": [
      "              precision    recall  f1-score   support\n",
      "\n",
      "           0       1.00      1.00      1.00    251638\n",
      "           1       0.96      0.76      0.85       322\n",
      "\n",
      "    accuracy                           1.00    251960\n",
      "   macro avg       0.98      0.88      0.92    251960\n",
      "weighted avg       1.00      1.00      1.00    251960\n",
      "\n"
     ]
    }
   ],
   "source": [
    "# Percebe-se que esse modelo apresenta uma precisão 1%menor que o modelo com random forest, porém o recall é 1% maior.\n",
    "# Comparando o f1-score eles têm o mesmo valor\n",
    "print(classification_report(y_test,xgb_pred))"
   ]
  },
  {
   "cell_type": "code",
   "execution_count": 222,
   "metadata": {},
   "outputs": [
    {
     "data": {
      "text/plain": [
       "0.8788641047459529"
      ]
     },
     "execution_count": 222,
     "metadata": {},
     "output_type": "execute_result"
    }
   ],
   "source": [
    "# O valor da curva roc é menor que o modelo anterior\n",
    "roc_auc_score(y_test, xgb_pred)"
   ]
  },
  {
   "cell_type": "code",
   "execution_count": 223,
   "metadata": {},
   "outputs": [],
   "source": [
    "# A seguir pela função RandomizedSearchCV buscará encontrar os melhores valores dos parâmetros para os modelos \n",
    "# Random Forest e XGBoost\n",
    "from sklearn.model_selection import RandomizedSearchCV"
   ]
  },
  {
   "cell_type": "code",
   "execution_count": 227,
   "metadata": {
    "scrolled": true
   },
   "outputs": [],
   "source": [
    "# Valores dos parâmetros testados\n",
    "param_grid = {\n",
    "    'max_depth': [None,4, 5, 6],\n",
    "    'min_samples_leaf': [1, 2],\n",
    "    'min_samples_split': [2,3,4, 5, 6],\n",
    "    'n_estimators': [100,200]}"
   ]
  },
  {
   "cell_type": "code",
   "execution_count": 228,
   "metadata": {},
   "outputs": [],
   "source": [
    "# Produção do modelo\n",
    "random_model2 = RandomizedSearchCV(estimator = RandomForestClassifier(), \n",
    "                             param_distributions = param_grid, \n",
    "                             random_state = 333).fit(x_train, y_train)"
   ]
  },
  {
   "cell_type": "code",
   "execution_count": 229,
   "metadata": {},
   "outputs": [
    {
     "data": {
      "text/plain": [
       "RandomForestClassifier(min_samples_split=5)"
      ]
     },
     "execution_count": 229,
     "metadata": {},
     "output_type": "execute_result"
    }
   ],
   "source": [
    "# O Melhor modelo gerado foi com o min_samples_split igual a 5. Os outros parâmetros se manteram default\n",
    "random_model2.best_estimator_"
   ]
  },
  {
   "cell_type": "code",
   "execution_count": 230,
   "metadata": {},
   "outputs": [],
   "source": [
    "random_model2_pred=random_model2.predict(x_test)"
   ]
  },
  {
   "cell_type": "code",
   "execution_count": 231,
   "metadata": {},
   "outputs": [
    {
     "data": {
      "text/plain": [
       "array([[251631,      7],\n",
       "       [    85,    237]], dtype=int64)"
      ]
     },
     "execution_count": 231,
     "metadata": {},
     "output_type": "execute_result"
    }
   ],
   "source": [
    "# matriz de confusão\n",
    "confusion_matrix(y_test,random_model2_pred)"
   ]
  },
  {
   "cell_type": "code",
   "execution_count": 232,
   "metadata": {},
   "outputs": [
    {
     "name": "stdout",
     "output_type": "stream",
     "text": [
      "              precision    recall  f1-score   support\n",
      "\n",
      "           0       1.00      1.00      1.00    251638\n",
      "           1       0.97      0.74      0.84       322\n",
      "\n",
      "    accuracy                           1.00    251960\n",
      "   macro avg       0.99      0.87      0.92    251960\n",
      "weighted avg       1.00      1.00      1.00    251960\n",
      "\n"
     ]
    }
   ],
   "source": [
    "# Mesmo tentando buscar os melhores valores dos parâmetros, o modelo gerado não apresentou indicadores melhores que o anterior\n",
    "print(classification_report(y_test,random_model2_pred))"
   ]
  },
  {
   "cell_type": "code",
   "execution_count": 239,
   "metadata": {},
   "outputs": [],
   "source": [
    "# Valores dos parâmetros testados para o modelo XGBoost\n",
    "param_grid_xgb = {\n",
    "        'min_child_weight': [1, 5, 10],\n",
    "        'gamma': [0.5, 1, 1.5, 2, 5],\n",
    "        'subsample': [0.6, 0.8, 1.0],\n",
    "        'colsample_bytree': [0.6, 0.8, 1.0],\n",
    "        'max_depth': [3, 4, 5],\n",
    "    \"learning_rate\" : [0.03,0.05, 0.1, 0.25, 0.5],\n",
    "    'n_estimators': [100,200]\n",
    "        }"
   ]
  },
  {
   "cell_type": "code",
   "execution_count": 240,
   "metadata": {},
   "outputs": [],
   "source": [
    "# Produção do modelo\n",
    "xgb_model2 = RandomizedSearchCV(estimator = XGBClassifier(), \n",
    "                             param_distributions = param_grid_xgb, \n",
    "                             random_state = 333).fit(x_train, y_train)"
   ]
  },
  {
   "cell_type": "code",
   "execution_count": 244,
   "metadata": {},
   "outputs": [
    {
     "data": {
      "text/plain": [
       "XGBClassifier(base_score=0.5, booster='gbtree', colsample_bylevel=1,\n",
       "              colsample_bynode=1, colsample_bytree=1.0, gamma=1.5, gpu_id=-1,\n",
       "              importance_type='gain', interaction_constraints='',\n",
       "              learning_rate=0.25, max_delta_step=0, max_depth=5,\n",
       "              min_child_weight=1, missing=nan, monotone_constraints='()',\n",
       "              n_estimators=100, n_jobs=0, num_parallel_tree=1, random_state=0,\n",
       "              reg_alpha=0, reg_lambda=1, scale_pos_weight=1, subsample=0.6,\n",
       "              tree_method='exact', validate_parameters=1, verbosity=None)"
      ]
     },
     "execution_count": 244,
     "metadata": {},
     "output_type": "execute_result"
    }
   ],
   "source": [
    "# Melhores valores dos estimadores\n",
    "xgb_model2.best_estimator_"
   ]
  },
  {
   "cell_type": "code",
   "execution_count": 241,
   "metadata": {},
   "outputs": [],
   "source": [
    "xgb_model2_pred=xgb_model2.predict(x_test)"
   ]
  },
  {
   "cell_type": "code",
   "execution_count": 242,
   "metadata": {},
   "outputs": [
    {
     "data": {
      "text/plain": [
       "array([[251633,      5],\n",
       "       [    78,    244]], dtype=int64)"
      ]
     },
     "execution_count": 242,
     "metadata": {},
     "output_type": "execute_result"
    }
   ],
   "source": [
    "# matriz de confusão\n",
    "confusion_matrix(y_test,xgb_model2_pred)"
   ]
  },
  {
   "cell_type": "code",
   "execution_count": 243,
   "metadata": {},
   "outputs": [
    {
     "name": "stdout",
     "output_type": "stream",
     "text": [
      "              precision    recall  f1-score   support\n",
      "\n",
      "           0       1.00      1.00      1.00    251638\n",
      "           1       0.98      0.76      0.85       322\n",
      "\n",
      "    accuracy                           1.00    251960\n",
      "   macro avg       0.99      0.88      0.93    251960\n",
      "weighted avg       1.00      1.00      1.00    251960\n",
      "\n"
     ]
    }
   ],
   "source": [
    "# Percebe-se que o modelo gerado apresentou o melhores nível de precisão para os casos que sõa fraudes\n",
    "print(classification_report(y_test,xgb_model2_pred))"
   ]
  },
  {
   "cell_type": "code",
   "execution_count": 245,
   "metadata": {},
   "outputs": [],
   "source": [
    "# Portanto o melhor modelo foi o xgb_model2, assim salvaremos ele\n",
    "import pickle"
   ]
  },
  {
   "cell_type": "code",
   "execution_count": 246,
   "metadata": {},
   "outputs": [],
   "source": [
    "with open('modelo_fraude.pkl', 'wb') as file:\n",
    "    pickle.dump(xgb_model2, file)"
   ]
  }
 ],
 "metadata": {
  "kernelspec": {
   "display_name": "Python 3",
   "language": "python",
   "name": "python3"
  },
  "language_info": {
   "codemirror_mode": {
    "name": "ipython",
    "version": 3
   },
   "file_extension": ".py",
   "mimetype": "text/x-python",
   "name": "python",
   "nbconvert_exporter": "python",
   "pygments_lexer": "ipython3",
   "version": "3.7.6"
  }
 },
 "nbformat": 4,
 "nbformat_minor": 4
}
